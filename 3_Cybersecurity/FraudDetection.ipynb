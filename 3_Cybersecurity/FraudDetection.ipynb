{
  "nbformat": 4,
  "nbformat_minor": 0,
  "metadata": {
    "colab": {
      "name": "FraudDetection.ipynb",
      "version": "0.3.2",
      "provenance": [],
      "collapsed_sections": [],
      "machine_shape": "hm",
      "include_colab_link": true
    },
    "kernelspec": {
      "name": "python3",
      "display_name": "Python 3"
    }
  },
  "cells": [
    {
      "cell_type": "markdown",
      "metadata": {
        "id": "view-in-github",
        "colab_type": "text"
      },
      "source": [
        "<a href=\"https://colab.research.google.com/github/Eduzc07/machinelearning/blob/master/3_Cybersecurity/FraudDetection.ipynb\" target=\"_parent\"><img src=\"https://colab.research.google.com/assets/colab-badge.svg\" alt=\"Open In Colab\"/></a>"
      ]
    },
    {
      "cell_type": "markdown",
      "metadata": {
        "id": "YGvqW4YRq9XF",
        "colab_type": "text"
      },
      "source": [
        "# Fraud Detection\n",
        "\n",
        "As first step we have to install de kaggle API."
      ]
    },
    {
      "cell_type": "code",
      "metadata": {
        "id": "GslIhk-cqvHD",
        "colab_type": "code",
        "colab": {}
      },
      "source": [
        "!pip install -q kaggle"
      ],
      "execution_count": 0,
      "outputs": []
    },
    {
      "cell_type": "markdown",
      "metadata": {
        "id": "peg-XFttua-3",
        "colab_type": "text"
      },
      "source": [
        "Then, we are going to save the API key in order to use the API."
      ]
    },
    {
      "cell_type": "code",
      "metadata": {
        "id": "HwBacQkwr3wy",
        "colab_type": "code",
        "outputId": "4982100e-7851-45de-e03c-b2a5fe80d425",
        "colab": {
          "base_uri": "https://localhost:8080/",
          "height": 34
        }
      },
      "source": [
        "from googleapiclient.discovery import build\n",
        "import io, os\n",
        "from googleapiclient.http import MediaIoBaseDownload\n",
        "from google.colab import auth\n",
        "\n",
        "auth.authenticate_user()\n",
        "drive_service = build('drive', 'v3')\n",
        "results = drive_service.files().list(\n",
        "        q=\"name = 'kaggle.json'\", fields=\"files(id)\").execute()\n",
        "kaggle_api_key = results.get('files', [])\n",
        "filename = \"/root/.kaggle/kaggle.json\"  # NOTE: This is different from the Medium post!\n",
        "os.makedirs(os.path.dirname(filename), exist_ok=True)\n",
        "request = drive_service.files().get_media(fileId=kaggle_api_key[0]['id'])\n",
        "fh = io.FileIO(filename, 'wb')\n",
        "downloader = MediaIoBaseDownload(fh, request)\n",
        "done = False\n",
        "while done is False:\n",
        "    status, done = downloader.next_chunk()\n",
        "    print(\"Download %d%%.\" % int(status.progress() * 100))\n",
        "os.chmod(filename, 600)"
      ],
      "execution_count": 2,
      "outputs": [
        {
          "output_type": "stream",
          "text": [
            "Download 100%.\n"
          ],
          "name": "stdout"
        }
      ]
    },
    {
      "cell_type": "markdown",
      "metadata": {
        "id": "HFKiqu8t3Eec",
        "colab_type": "text"
      },
      "source": [
        "In case it does not work, please \"reset all runtimes\", not restart.\n",
        "\n",
        "Source: [\"404 - Not Found\" when downloading dataset from Google Colab](https://github.com/Kaggle/kaggle-api/issues/110)"
      ]
    },
    {
      "cell_type": "code",
      "metadata": {
        "id": "7p18p-VJsQVP",
        "colab_type": "code",
        "outputId": "71292ab2-ec8e-4a89-f394-2836dbdd0818",
        "colab": {
          "base_uri": "https://localhost:8080/",
          "height": 411
        }
      },
      "source": [
        "!kaggle datasets list"
      ],
      "execution_count": 3,
      "outputs": [
        {
          "output_type": "stream",
          "text": [
            "ref                                                       title                                              size  lastUpdated          downloadCount  \n",
            "--------------------------------------------------------  ------------------------------------------------  -----  -------------------  -------------  \n",
            "dgomonov/new-york-city-airbnb-open-data                   New York City Airbnb Open Data                      2MB  2019-08-12 16:24:45          10008  \n",
            "lakshyaag/india-trade-data                                India - Trade Data                                  1MB  2019-08-16 16:13:58           5832  \n",
            "therohk/ireland-historical-news                           The Irish Times - Waxy-Wany News                   47MB  2019-08-24 15:36:54            825  \n",
            "bradklassen/pga-tour-20102018-data                        PGA Tour Golf Data                                 94MB  2019-08-30 00:09:59           5170  \n",
            "r3w0p4/bournemouth-venues                                 Venues in Bournemouth                               3KB  2019-07-08 14:26:48           1086  \n",
            "AnalyzeBoston/crimes-in-boston                            Crimes in Boston                                   10MB  2018-09-04 17:56:03          17288  \n",
            "dareenalharthi/jamalon-arabic-books-dataset               Jamalon Arabic Books Dataset                        1MB  2019-08-15 18:58:06            234  \n",
            "samhiatt/xenocanto-avian-vocalizations-canv-usa           Avian Vocalizations from CA & NV, USA               1GB  2019-08-10 00:16:10            191  \n",
            "codersree/mount-rainier-weather-and-climbing-data         Mount Rainier Weather and Climbing Data            25KB  2019-08-27 23:33:36            808  \n",
            "citizen-ds-ghana/health-facilities-gh                     Ghana Health Facilities                            84KB  2018-09-03 01:19:24           1711  \n",
            "doit-intl/autotel-shared-car-locations                    Shared Cars Locations                              78MB  2019-01-10 13:06:00           2087  \n",
            "jolasa/waves-measuring-buoys-data-mooloolaba              Waves Measuring Buoys Data                        599KB  2019-07-07 16:59:44           2224  \n",
            "ma7555/schengen-visa-stats                                Schengen Visa Stats 2017/2018                       1MB  2019-07-25 10:55:37            834  \n",
            "lishuyangkaggle/cocktails-hotaling-co                     Cocktails (Hotaling & Co.)                         75KB  2019-07-08 23:49:34            780  \n",
            "Madgrades/uw-madison-courses                              UW Madison Courses and Grades 2006-2017            90MB  2018-05-15 18:58:25           1720  \n",
            "inIT-OWL/vega-shrinkwrapper-runtofailure-data             Vega shrink-wrapper component degradation         408KB  2018-11-12 13:03:43            351  \n",
            "martj42/international-football-results-from-1872-to-2017  International football results from 1872 to 2019  518KB  2019-07-22 17:03:13          18423  \n",
            "citylines/city-lines                                      Transit systems of world                            3MB  2019-03-25 16:53:05           2930  \n",
            "datafiniti/pizza-restaurants-and-the-pizza-they-sell      Pizza Restaurants and the Pizza They Sell         850KB  2019-05-30 00:21:21           8035  \n",
            "university-of-edinburgh/peace-agreements-dataset          Peace Agreements Dataset                            1MB  2018-03-05 16:39:50           1017  \n"
          ],
          "name": "stdout"
        }
      ]
    },
    {
      "cell_type": "markdown",
      "metadata": {
        "id": "V-LTnFimu0GM",
        "colab_type": "text"
      },
      "source": [
        "Now, we are going to download the data from Kaggle.\n",
        "[IEEE-CIS Fraud Detection](https://www.kaggle.com/c/ieee-fraud-detection)"
      ]
    },
    {
      "cell_type": "code",
      "metadata": {
        "id": "cpl2ZYvNX_zA",
        "colab_type": "code",
        "colab": {
          "base_uri": "https://localhost:8080/",
          "height": 102
        },
        "outputId": "56c4fbea-e0be-40bd-eec8-81f58f636ba1"
      },
      "source": [
        "!kaggle competitions download -c ieee-fraud-detection"
      ],
      "execution_count": 4,
      "outputs": [
        {
          "output_type": "stream",
          "text": [
            "train_transaction.csv.zip: Skipping, found more recently modified local copy (use --force to force download)\n",
            "train_identity.csv.zip: Skipping, found more recently modified local copy (use --force to force download)\n",
            "test_transaction.csv.zip: Skipping, found more recently modified local copy (use --force to force download)\n",
            "test_identity.csv.zip: Skipping, found more recently modified local copy (use --force to force download)\n",
            "sample_submission.csv.zip: Skipping, found more recently modified local copy (use --force to force download)\n"
          ],
          "name": "stdout"
        }
      ]
    },
    {
      "cell_type": "markdown",
      "metadata": {
        "id": "7tSQDsy5vDWH",
        "colab_type": "text"
      },
      "source": [
        "The Data has been downloaded in .zip file, then we have to unzip them."
      ]
    },
    {
      "cell_type": "code",
      "metadata": {
        "id": "Nj-uSTXgYRSu",
        "colab_type": "code",
        "colab": {
          "base_uri": "https://localhost:8080/",
          "height": 153
        },
        "outputId": "c760056f-49fb-4519-aa4f-7d77730798ce"
      },
      "source": [
        "!yes | unzip train_identity.csv.zip\n",
        "!yes | unzip train_transaction.csv.zip\n",
        "!yes | unzip test_identity.csv.zip\n",
        "!yes | unzip test_transaction.csv.zip"
      ],
      "execution_count": 5,
      "outputs": [
        {
          "output_type": "stream",
          "text": [
            "Archive:  train_identity.csv.zip\n",
            "replace train_identity.csv? [y]es, [n]o, [A]ll, [N]one, [r]ename:   inflating: train_identity.csv      \n",
            "Archive:  train_transaction.csv.zip\n",
            "replace train_transaction.csv? [y]es, [n]o, [A]ll, [N]one, [r]ename:   inflating: train_transaction.csv   \n",
            "Archive:  test_identity.csv.zip\n",
            "replace test_identity.csv? [y]es, [n]o, [A]ll, [N]one, [r]ename:   inflating: test_identity.csv       \n",
            "Archive:  test_transaction.csv.zip\n",
            "replace test_transaction.csv? [y]es, [n]o, [A]ll, [N]one, [r]ename:   inflating: test_transaction.csv    \n"
          ],
          "name": "stdout"
        }
      ]
    },
    {
      "cell_type": "markdown",
      "metadata": {
        "id": "8sXW87arv_ze",
        "colab_type": "text"
      },
      "source": [
        "Run all the required imports."
      ]
    },
    {
      "cell_type": "code",
      "metadata": {
        "id": "znc8ukAjv89h",
        "colab_type": "code",
        "colab": {}
      },
      "source": [
        "import numpy as np\n",
        "import pandas as pd\n",
        "import matplotlib.pyplot as plt\n",
        "import seaborn as sns\n",
        "\n",
        "# SciKit-Learn\n",
        "from sklearn.preprocessing import LabelEncoder\n",
        "from sklearn.linear_model import LogisticRegression\n",
        "from sklearn.model_selection import train_test_split\n",
        "from sklearn.metrics import accuracy_score\n",
        "\n",
        "import csv"
      ],
      "execution_count": 0,
      "outputs": []
    },
    {
      "cell_type": "markdown",
      "metadata": {
        "id": "OjkSVI7vwYDV",
        "colab_type": "text"
      },
      "source": [
        "Read the data using panda."
      ]
    },
    {
      "cell_type": "code",
      "metadata": {
        "id": "8BBGBNUNKtx8",
        "colab_type": "code",
        "outputId": "0169d69e-c588-430c-89d1-64c95b7eac4b",
        "colab": {
          "base_uri": "https://localhost:8080/",
          "height": 85
        }
      },
      "source": [
        "%%time\n",
        "train_id = pd.read_csv('train_identity.csv')\n",
        "train_trn = pd.read_csv('train_transaction.csv')\n",
        "test_id = pd.read_csv('test_identity.csv')\n",
        "test_trn = pd.read_csv('test_transaction.csv')\n",
        "\n",
        "print('train transaction size:', len(train_trn))\n",
        "print('test transaction size:', len(test_trn))"
      ],
      "execution_count": 74,
      "outputs": [
        {
          "output_type": "stream",
          "text": [
            "train transaction size: 590540\n",
            "test transaction size: 506691\n",
            "CPU times: user 50.8 s, sys: 5.51 s, total: 56.3 s\n",
            "Wall time: 56.3 s\n"
          ],
          "name": "stdout"
        }
      ]
    },
    {
      "cell_type": "code",
      "metadata": {
        "id": "P1CvBH_SZbcQ",
        "colab_type": "code",
        "colab": {
          "base_uri": "https://localhost:8080/",
          "height": 253
        },
        "outputId": "76954dc5-48a6-4276-9faf-ad8b8b681a1a"
      },
      "source": [
        "train_trn_new = pd.DataFrame(train_trn, columns=train_trn.isnull().sum().sort_values()[:196].index)\n",
        "train_trn_new = train_trn_new.drop(columns=['TransactionID', 'TransactionDT', 'card6', 'card4', 'P_emaildomain'])\n",
        "train_trn_new_label = train_trn_new.isFraud\n",
        "train_trn_new = train_trn_new.drop(columns=['isFraud'])\n",
        "train_trn_new.head()"
      ],
      "execution_count": 75,
      "outputs": [
        {
          "output_type": "execute_result",
          "data": {
            "text/html": [
              "<div>\n",
              "<style scoped>\n",
              "    .dataframe tbody tr th:only-of-type {\n",
              "        vertical-align: middle;\n",
              "    }\n",
              "\n",
              "    .dataframe tbody tr th {\n",
              "        vertical-align: top;\n",
              "    }\n",
              "\n",
              "    .dataframe thead th {\n",
              "        text-align: right;\n",
              "    }\n",
              "</style>\n",
              "<table border=\"1\" class=\"dataframe\">\n",
              "  <thead>\n",
              "    <tr style=\"text-align: right;\">\n",
              "      <th></th>\n",
              "      <th>C14</th>\n",
              "      <th>C13</th>\n",
              "      <th>C12</th>\n",
              "      <th>C11</th>\n",
              "      <th>C10</th>\n",
              "      <th>C9</th>\n",
              "      <th>C8</th>\n",
              "      <th>C7</th>\n",
              "      <th>C6</th>\n",
              "      <th>C5</th>\n",
              "      <th>C4</th>\n",
              "      <th>C3</th>\n",
              "      <th>C2</th>\n",
              "      <th>C1</th>\n",
              "      <th>TransactionAmt</th>\n",
              "      <th>ProductCD</th>\n",
              "      <th>card1</th>\n",
              "      <th>V309</th>\n",
              "      <th>V306</th>\n",
              "      <th>V307</th>\n",
              "      <th>V299</th>\n",
              "      <th>V321</th>\n",
              "      <th>V320</th>\n",
              "      <th>V319</th>\n",
              "      <th>V318</th>\n",
              "      <th>V316</th>\n",
              "      <th>V312</th>\n",
              "      <th>V311</th>\n",
              "      <th>V305</th>\n",
              "      <th>V308</th>\n",
              "      <th>V310</th>\n",
              "      <th>V304</th>\n",
              "      <th>V317</th>\n",
              "      <th>V302</th>\n",
              "      <th>V303</th>\n",
              "      <th>V298</th>\n",
              "      <th>V297</th>\n",
              "      <th>V295</th>\n",
              "      <th>V294</th>\n",
              "      <th>V292</th>\n",
              "      <th>...</th>\n",
              "      <th>V71</th>\n",
              "      <th>V72</th>\n",
              "      <th>V74</th>\n",
              "      <th>V64</th>\n",
              "      <th>V73</th>\n",
              "      <th>D15</th>\n",
              "      <th>V94</th>\n",
              "      <th>V75</th>\n",
              "      <th>V76</th>\n",
              "      <th>V77</th>\n",
              "      <th>V78</th>\n",
              "      <th>V79</th>\n",
              "      <th>V80</th>\n",
              "      <th>V81</th>\n",
              "      <th>V83</th>\n",
              "      <th>V82</th>\n",
              "      <th>V86</th>\n",
              "      <th>V87</th>\n",
              "      <th>V88</th>\n",
              "      <th>V89</th>\n",
              "      <th>V90</th>\n",
              "      <th>V91</th>\n",
              "      <th>V92</th>\n",
              "      <th>V93</th>\n",
              "      <th>V84</th>\n",
              "      <th>V85</th>\n",
              "      <th>D4</th>\n",
              "      <th>V40</th>\n",
              "      <th>V41</th>\n",
              "      <th>V38</th>\n",
              "      <th>V52</th>\n",
              "      <th>V39</th>\n",
              "      <th>V37</th>\n",
              "      <th>V49</th>\n",
              "      <th>V48</th>\n",
              "      <th>V51</th>\n",
              "      <th>V46</th>\n",
              "      <th>V45</th>\n",
              "      <th>V47</th>\n",
              "      <th>V43</th>\n",
              "    </tr>\n",
              "  </thead>\n",
              "  <tbody>\n",
              "    <tr>\n",
              "      <th>0</th>\n",
              "      <td>1.0</td>\n",
              "      <td>1.0</td>\n",
              "      <td>0.0</td>\n",
              "      <td>2.0</td>\n",
              "      <td>0.0</td>\n",
              "      <td>1.0</td>\n",
              "      <td>0.0</td>\n",
              "      <td>0.0</td>\n",
              "      <td>1.0</td>\n",
              "      <td>0.0</td>\n",
              "      <td>0.0</td>\n",
              "      <td>0.0</td>\n",
              "      <td>1.0</td>\n",
              "      <td>1.0</td>\n",
              "      <td>68.5</td>\n",
              "      <td>W</td>\n",
              "      <td>13926</td>\n",
              "      <td>0.0</td>\n",
              "      <td>0.0</td>\n",
              "      <td>117.0</td>\n",
              "      <td>0.0</td>\n",
              "      <td>0.0</td>\n",
              "      <td>0.0</td>\n",
              "      <td>0.0</td>\n",
              "      <td>0.0</td>\n",
              "      <td>0.0</td>\n",
              "      <td>0.0</td>\n",
              "      <td>0.0</td>\n",
              "      <td>1.0</td>\n",
              "      <td>0.0</td>\n",
              "      <td>0.0</td>\n",
              "      <td>0.0</td>\n",
              "      <td>117.0</td>\n",
              "      <td>0.0</td>\n",
              "      <td>0.0</td>\n",
              "      <td>0.0</td>\n",
              "      <td>0.0</td>\n",
              "      <td>0.0</td>\n",
              "      <td>1.0</td>\n",
              "      <td>1.0</td>\n",
              "      <td>...</td>\n",
              "      <td>0.0</td>\n",
              "      <td>0.0</td>\n",
              "      <td>0.0</td>\n",
              "      <td>0.0</td>\n",
              "      <td>0.0</td>\n",
              "      <td>0.0</td>\n",
              "      <td>0.0</td>\n",
              "      <td>1.0</td>\n",
              "      <td>1.0</td>\n",
              "      <td>1.0</td>\n",
              "      <td>1.0</td>\n",
              "      <td>0.0</td>\n",
              "      <td>0.0</td>\n",
              "      <td>0.0</td>\n",
              "      <td>0.0</td>\n",
              "      <td>0.0</td>\n",
              "      <td>1.0</td>\n",
              "      <td>1.0</td>\n",
              "      <td>1.0</td>\n",
              "      <td>0.0</td>\n",
              "      <td>0.0</td>\n",
              "      <td>0.0</td>\n",
              "      <td>0.0</td>\n",
              "      <td>0.0</td>\n",
              "      <td>0.0</td>\n",
              "      <td>0.0</td>\n",
              "      <td>NaN</td>\n",
              "      <td>NaN</td>\n",
              "      <td>NaN</td>\n",
              "      <td>NaN</td>\n",
              "      <td>NaN</td>\n",
              "      <td>NaN</td>\n",
              "      <td>NaN</td>\n",
              "      <td>NaN</td>\n",
              "      <td>NaN</td>\n",
              "      <td>NaN</td>\n",
              "      <td>NaN</td>\n",
              "      <td>NaN</td>\n",
              "      <td>NaN</td>\n",
              "      <td>NaN</td>\n",
              "    </tr>\n",
              "    <tr>\n",
              "      <th>1</th>\n",
              "      <td>1.0</td>\n",
              "      <td>1.0</td>\n",
              "      <td>0.0</td>\n",
              "      <td>1.0</td>\n",
              "      <td>0.0</td>\n",
              "      <td>0.0</td>\n",
              "      <td>0.0</td>\n",
              "      <td>0.0</td>\n",
              "      <td>1.0</td>\n",
              "      <td>0.0</td>\n",
              "      <td>0.0</td>\n",
              "      <td>0.0</td>\n",
              "      <td>1.0</td>\n",
              "      <td>1.0</td>\n",
              "      <td>29.0</td>\n",
              "      <td>W</td>\n",
              "      <td>2755</td>\n",
              "      <td>0.0</td>\n",
              "      <td>0.0</td>\n",
              "      <td>0.0</td>\n",
              "      <td>0.0</td>\n",
              "      <td>0.0</td>\n",
              "      <td>0.0</td>\n",
              "      <td>0.0</td>\n",
              "      <td>0.0</td>\n",
              "      <td>0.0</td>\n",
              "      <td>0.0</td>\n",
              "      <td>0.0</td>\n",
              "      <td>1.0</td>\n",
              "      <td>0.0</td>\n",
              "      <td>0.0</td>\n",
              "      <td>0.0</td>\n",
              "      <td>0.0</td>\n",
              "      <td>0.0</td>\n",
              "      <td>0.0</td>\n",
              "      <td>0.0</td>\n",
              "      <td>0.0</td>\n",
              "      <td>0.0</td>\n",
              "      <td>0.0</td>\n",
              "      <td>1.0</td>\n",
              "      <td>...</td>\n",
              "      <td>0.0</td>\n",
              "      <td>0.0</td>\n",
              "      <td>0.0</td>\n",
              "      <td>0.0</td>\n",
              "      <td>0.0</td>\n",
              "      <td>0.0</td>\n",
              "      <td>0.0</td>\n",
              "      <td>0.0</td>\n",
              "      <td>0.0</td>\n",
              "      <td>1.0</td>\n",
              "      <td>1.0</td>\n",
              "      <td>0.0</td>\n",
              "      <td>0.0</td>\n",
              "      <td>0.0</td>\n",
              "      <td>1.0</td>\n",
              "      <td>1.0</td>\n",
              "      <td>1.0</td>\n",
              "      <td>1.0</td>\n",
              "      <td>1.0</td>\n",
              "      <td>0.0</td>\n",
              "      <td>0.0</td>\n",
              "      <td>0.0</td>\n",
              "      <td>0.0</td>\n",
              "      <td>0.0</td>\n",
              "      <td>0.0</td>\n",
              "      <td>0.0</td>\n",
              "      <td>0.0</td>\n",
              "      <td>0.0</td>\n",
              "      <td>1.0</td>\n",
              "      <td>1.0</td>\n",
              "      <td>0.0</td>\n",
              "      <td>0.0</td>\n",
              "      <td>1.0</td>\n",
              "      <td>0.0</td>\n",
              "      <td>0.0</td>\n",
              "      <td>0.0</td>\n",
              "      <td>1.0</td>\n",
              "      <td>1.0</td>\n",
              "      <td>1.0</td>\n",
              "      <td>0.0</td>\n",
              "    </tr>\n",
              "    <tr>\n",
              "      <th>2</th>\n",
              "      <td>1.0</td>\n",
              "      <td>1.0</td>\n",
              "      <td>0.0</td>\n",
              "      <td>1.0</td>\n",
              "      <td>0.0</td>\n",
              "      <td>1.0</td>\n",
              "      <td>0.0</td>\n",
              "      <td>0.0</td>\n",
              "      <td>1.0</td>\n",
              "      <td>0.0</td>\n",
              "      <td>0.0</td>\n",
              "      <td>0.0</td>\n",
              "      <td>1.0</td>\n",
              "      <td>1.0</td>\n",
              "      <td>59.0</td>\n",
              "      <td>W</td>\n",
              "      <td>4663</td>\n",
              "      <td>0.0</td>\n",
              "      <td>0.0</td>\n",
              "      <td>0.0</td>\n",
              "      <td>0.0</td>\n",
              "      <td>0.0</td>\n",
              "      <td>0.0</td>\n",
              "      <td>0.0</td>\n",
              "      <td>0.0</td>\n",
              "      <td>0.0</td>\n",
              "      <td>0.0</td>\n",
              "      <td>0.0</td>\n",
              "      <td>1.0</td>\n",
              "      <td>0.0</td>\n",
              "      <td>0.0</td>\n",
              "      <td>0.0</td>\n",
              "      <td>0.0</td>\n",
              "      <td>0.0</td>\n",
              "      <td>0.0</td>\n",
              "      <td>0.0</td>\n",
              "      <td>0.0</td>\n",
              "      <td>0.0</td>\n",
              "      <td>0.0</td>\n",
              "      <td>1.0</td>\n",
              "      <td>...</td>\n",
              "      <td>0.0</td>\n",
              "      <td>0.0</td>\n",
              "      <td>0.0</td>\n",
              "      <td>0.0</td>\n",
              "      <td>0.0</td>\n",
              "      <td>315.0</td>\n",
              "      <td>0.0</td>\n",
              "      <td>1.0</td>\n",
              "      <td>1.0</td>\n",
              "      <td>1.0</td>\n",
              "      <td>1.0</td>\n",
              "      <td>0.0</td>\n",
              "      <td>0.0</td>\n",
              "      <td>0.0</td>\n",
              "      <td>1.0</td>\n",
              "      <td>1.0</td>\n",
              "      <td>1.0</td>\n",
              "      <td>1.0</td>\n",
              "      <td>1.0</td>\n",
              "      <td>0.0</td>\n",
              "      <td>0.0</td>\n",
              "      <td>0.0</td>\n",
              "      <td>0.0</td>\n",
              "      <td>0.0</td>\n",
              "      <td>0.0</td>\n",
              "      <td>0.0</td>\n",
              "      <td>0.0</td>\n",
              "      <td>0.0</td>\n",
              "      <td>1.0</td>\n",
              "      <td>1.0</td>\n",
              "      <td>0.0</td>\n",
              "      <td>0.0</td>\n",
              "      <td>1.0</td>\n",
              "      <td>0.0</td>\n",
              "      <td>0.0</td>\n",
              "      <td>0.0</td>\n",
              "      <td>1.0</td>\n",
              "      <td>1.0</td>\n",
              "      <td>1.0</td>\n",
              "      <td>0.0</td>\n",
              "    </tr>\n",
              "    <tr>\n",
              "      <th>3</th>\n",
              "      <td>1.0</td>\n",
              "      <td>25.0</td>\n",
              "      <td>0.0</td>\n",
              "      <td>1.0</td>\n",
              "      <td>0.0</td>\n",
              "      <td>1.0</td>\n",
              "      <td>0.0</td>\n",
              "      <td>0.0</td>\n",
              "      <td>4.0</td>\n",
              "      <td>0.0</td>\n",
              "      <td>0.0</td>\n",
              "      <td>0.0</td>\n",
              "      <td>5.0</td>\n",
              "      <td>2.0</td>\n",
              "      <td>50.0</td>\n",
              "      <td>W</td>\n",
              "      <td>18132</td>\n",
              "      <td>0.0</td>\n",
              "      <td>50.0</td>\n",
              "      <td>1758.0</td>\n",
              "      <td>0.0</td>\n",
              "      <td>0.0</td>\n",
              "      <td>0.0</td>\n",
              "      <td>0.0</td>\n",
              "      <td>790.0</td>\n",
              "      <td>50.0</td>\n",
              "      <td>135.0</td>\n",
              "      <td>0.0</td>\n",
              "      <td>1.0</td>\n",
              "      <td>925.0</td>\n",
              "      <td>354.0</td>\n",
              "      <td>0.0</td>\n",
              "      <td>1404.0</td>\n",
              "      <td>0.0</td>\n",
              "      <td>0.0</td>\n",
              "      <td>0.0</td>\n",
              "      <td>0.0</td>\n",
              "      <td>24.0</td>\n",
              "      <td>38.0</td>\n",
              "      <td>1.0</td>\n",
              "      <td>...</td>\n",
              "      <td>0.0</td>\n",
              "      <td>0.0</td>\n",
              "      <td>0.0</td>\n",
              "      <td>0.0</td>\n",
              "      <td>0.0</td>\n",
              "      <td>111.0</td>\n",
              "      <td>0.0</td>\n",
              "      <td>1.0</td>\n",
              "      <td>1.0</td>\n",
              "      <td>1.0</td>\n",
              "      <td>1.0</td>\n",
              "      <td>0.0</td>\n",
              "      <td>0.0</td>\n",
              "      <td>0.0</td>\n",
              "      <td>1.0</td>\n",
              "      <td>1.0</td>\n",
              "      <td>1.0</td>\n",
              "      <td>1.0</td>\n",
              "      <td>1.0</td>\n",
              "      <td>0.0</td>\n",
              "      <td>0.0</td>\n",
              "      <td>0.0</td>\n",
              "      <td>0.0</td>\n",
              "      <td>0.0</td>\n",
              "      <td>0.0</td>\n",
              "      <td>0.0</td>\n",
              "      <td>94.0</td>\n",
              "      <td>0.0</td>\n",
              "      <td>1.0</td>\n",
              "      <td>1.0</td>\n",
              "      <td>0.0</td>\n",
              "      <td>0.0</td>\n",
              "      <td>1.0</td>\n",
              "      <td>0.0</td>\n",
              "      <td>0.0</td>\n",
              "      <td>0.0</td>\n",
              "      <td>1.0</td>\n",
              "      <td>1.0</td>\n",
              "      <td>1.0</td>\n",
              "      <td>0.0</td>\n",
              "    </tr>\n",
              "    <tr>\n",
              "      <th>4</th>\n",
              "      <td>1.0</td>\n",
              "      <td>1.0</td>\n",
              "      <td>0.0</td>\n",
              "      <td>1.0</td>\n",
              "      <td>1.0</td>\n",
              "      <td>0.0</td>\n",
              "      <td>1.0</td>\n",
              "      <td>0.0</td>\n",
              "      <td>1.0</td>\n",
              "      <td>0.0</td>\n",
              "      <td>0.0</td>\n",
              "      <td>0.0</td>\n",
              "      <td>1.0</td>\n",
              "      <td>1.0</td>\n",
              "      <td>50.0</td>\n",
              "      <td>H</td>\n",
              "      <td>4497</td>\n",
              "      <td>0.0</td>\n",
              "      <td>0.0</td>\n",
              "      <td>0.0</td>\n",
              "      <td>0.0</td>\n",
              "      <td>0.0</td>\n",
              "      <td>0.0</td>\n",
              "      <td>0.0</td>\n",
              "      <td>0.0</td>\n",
              "      <td>0.0</td>\n",
              "      <td>0.0</td>\n",
              "      <td>0.0</td>\n",
              "      <td>1.0</td>\n",
              "      <td>0.0</td>\n",
              "      <td>0.0</td>\n",
              "      <td>1.0</td>\n",
              "      <td>0.0</td>\n",
              "      <td>1.0</td>\n",
              "      <td>1.0</td>\n",
              "      <td>0.0</td>\n",
              "      <td>0.0</td>\n",
              "      <td>0.0</td>\n",
              "      <td>0.0</td>\n",
              "      <td>1.0</td>\n",
              "      <td>...</td>\n",
              "      <td>NaN</td>\n",
              "      <td>NaN</td>\n",
              "      <td>NaN</td>\n",
              "      <td>NaN</td>\n",
              "      <td>NaN</td>\n",
              "      <td>NaN</td>\n",
              "      <td>NaN</td>\n",
              "      <td>NaN</td>\n",
              "      <td>NaN</td>\n",
              "      <td>NaN</td>\n",
              "      <td>NaN</td>\n",
              "      <td>NaN</td>\n",
              "      <td>NaN</td>\n",
              "      <td>NaN</td>\n",
              "      <td>NaN</td>\n",
              "      <td>NaN</td>\n",
              "      <td>NaN</td>\n",
              "      <td>NaN</td>\n",
              "      <td>NaN</td>\n",
              "      <td>NaN</td>\n",
              "      <td>NaN</td>\n",
              "      <td>NaN</td>\n",
              "      <td>NaN</td>\n",
              "      <td>NaN</td>\n",
              "      <td>NaN</td>\n",
              "      <td>NaN</td>\n",
              "      <td>NaN</td>\n",
              "      <td>NaN</td>\n",
              "      <td>NaN</td>\n",
              "      <td>NaN</td>\n",
              "      <td>NaN</td>\n",
              "      <td>NaN</td>\n",
              "      <td>NaN</td>\n",
              "      <td>NaN</td>\n",
              "      <td>NaN</td>\n",
              "      <td>NaN</td>\n",
              "      <td>NaN</td>\n",
              "      <td>NaN</td>\n",
              "      <td>NaN</td>\n",
              "      <td>NaN</td>\n",
              "    </tr>\n",
              "  </tbody>\n",
              "</table>\n",
              "<p>5 rows × 190 columns</p>\n",
              "</div>"
            ],
            "text/plain": [
              "   C14   C13  C12  C11  C10   C9   C8  ...  V49  V48  V51  V46  V45  V47  V43\n",
              "0  1.0   1.0  0.0  2.0  0.0  1.0  0.0  ...  NaN  NaN  NaN  NaN  NaN  NaN  NaN\n",
              "1  1.0   1.0  0.0  1.0  0.0  0.0  0.0  ...  0.0  0.0  0.0  1.0  1.0  1.0  0.0\n",
              "2  1.0   1.0  0.0  1.0  0.0  1.0  0.0  ...  0.0  0.0  0.0  1.0  1.0  1.0  0.0\n",
              "3  1.0  25.0  0.0  1.0  0.0  1.0  0.0  ...  0.0  0.0  0.0  1.0  1.0  1.0  0.0\n",
              "4  1.0   1.0  0.0  1.0  1.0  0.0  1.0  ...  NaN  NaN  NaN  NaN  NaN  NaN  NaN\n",
              "\n",
              "[5 rows x 190 columns]"
            ]
          },
          "metadata": {
            "tags": []
          },
          "execution_count": 75
        }
      ]
    },
    {
      "cell_type": "markdown",
      "metadata": {
        "id": "HB2AzbkzAFlW",
        "colab_type": "text"
      },
      "source": [
        "Preparing test data."
      ]
    },
    {
      "cell_type": "code",
      "metadata": {
        "id": "xJzDGpVvAE2S",
        "colab_type": "code",
        "colab": {
          "base_uri": "https://localhost:8080/",
          "height": 253
        },
        "outputId": "f3bf4319-e908-4081-a217-3f0efe3e6a4f"
      },
      "source": [
        "test_trn_new = pd.DataFrame(test_trn, columns=train_trn.isnull().sum().sort_values()[:196].index)\n",
        "test_trn_new = test_trn_new.drop(columns=['isFraud', 'TransactionID', 'TransactionDT', 'card6', 'card4', 'P_emaildomain'])\n",
        "test_trn_new.head()"
      ],
      "execution_count": 76,
      "outputs": [
        {
          "output_type": "execute_result",
          "data": {
            "text/html": [
              "<div>\n",
              "<style scoped>\n",
              "    .dataframe tbody tr th:only-of-type {\n",
              "        vertical-align: middle;\n",
              "    }\n",
              "\n",
              "    .dataframe tbody tr th {\n",
              "        vertical-align: top;\n",
              "    }\n",
              "\n",
              "    .dataframe thead th {\n",
              "        text-align: right;\n",
              "    }\n",
              "</style>\n",
              "<table border=\"1\" class=\"dataframe\">\n",
              "  <thead>\n",
              "    <tr style=\"text-align: right;\">\n",
              "      <th></th>\n",
              "      <th>C14</th>\n",
              "      <th>C13</th>\n",
              "      <th>C12</th>\n",
              "      <th>C11</th>\n",
              "      <th>C10</th>\n",
              "      <th>C9</th>\n",
              "      <th>C8</th>\n",
              "      <th>C7</th>\n",
              "      <th>C6</th>\n",
              "      <th>C5</th>\n",
              "      <th>C4</th>\n",
              "      <th>C3</th>\n",
              "      <th>C2</th>\n",
              "      <th>C1</th>\n",
              "      <th>TransactionAmt</th>\n",
              "      <th>ProductCD</th>\n",
              "      <th>card1</th>\n",
              "      <th>V309</th>\n",
              "      <th>V306</th>\n",
              "      <th>V307</th>\n",
              "      <th>V299</th>\n",
              "      <th>V321</th>\n",
              "      <th>V320</th>\n",
              "      <th>V319</th>\n",
              "      <th>V318</th>\n",
              "      <th>V316</th>\n",
              "      <th>V312</th>\n",
              "      <th>V311</th>\n",
              "      <th>V305</th>\n",
              "      <th>V308</th>\n",
              "      <th>V310</th>\n",
              "      <th>V304</th>\n",
              "      <th>V317</th>\n",
              "      <th>V302</th>\n",
              "      <th>V303</th>\n",
              "      <th>V298</th>\n",
              "      <th>V297</th>\n",
              "      <th>V295</th>\n",
              "      <th>V294</th>\n",
              "      <th>V292</th>\n",
              "      <th>...</th>\n",
              "      <th>V71</th>\n",
              "      <th>V72</th>\n",
              "      <th>V74</th>\n",
              "      <th>V64</th>\n",
              "      <th>V73</th>\n",
              "      <th>D15</th>\n",
              "      <th>V94</th>\n",
              "      <th>V75</th>\n",
              "      <th>V76</th>\n",
              "      <th>V77</th>\n",
              "      <th>V78</th>\n",
              "      <th>V79</th>\n",
              "      <th>V80</th>\n",
              "      <th>V81</th>\n",
              "      <th>V83</th>\n",
              "      <th>V82</th>\n",
              "      <th>V86</th>\n",
              "      <th>V87</th>\n",
              "      <th>V88</th>\n",
              "      <th>V89</th>\n",
              "      <th>V90</th>\n",
              "      <th>V91</th>\n",
              "      <th>V92</th>\n",
              "      <th>V93</th>\n",
              "      <th>V84</th>\n",
              "      <th>V85</th>\n",
              "      <th>D4</th>\n",
              "      <th>V40</th>\n",
              "      <th>V41</th>\n",
              "      <th>V38</th>\n",
              "      <th>V52</th>\n",
              "      <th>V39</th>\n",
              "      <th>V37</th>\n",
              "      <th>V49</th>\n",
              "      <th>V48</th>\n",
              "      <th>V51</th>\n",
              "      <th>V46</th>\n",
              "      <th>V45</th>\n",
              "      <th>V47</th>\n",
              "      <th>V43</th>\n",
              "    </tr>\n",
              "  </thead>\n",
              "  <tbody>\n",
              "    <tr>\n",
              "      <th>0</th>\n",
              "      <td>6.0</td>\n",
              "      <td>115.0</td>\n",
              "      <td>1.0</td>\n",
              "      <td>5.0</td>\n",
              "      <td>0.0</td>\n",
              "      <td>6.0</td>\n",
              "      <td>0.0</td>\n",
              "      <td>0.0</td>\n",
              "      <td>4.0</td>\n",
              "      <td>3.0</td>\n",
              "      <td>0.0</td>\n",
              "      <td>0.0</td>\n",
              "      <td>6.0</td>\n",
              "      <td>6.0</td>\n",
              "      <td>31.95</td>\n",
              "      <td>W</td>\n",
              "      <td>10409</td>\n",
              "      <td>0.000000</td>\n",
              "      <td>0.000000</td>\n",
              "      <td>47.950001</td>\n",
              "      <td>0.0</td>\n",
              "      <td>0.0</td>\n",
              "      <td>0.0</td>\n",
              "      <td>0.0</td>\n",
              "      <td>0.0</td>\n",
              "      <td>0.0</td>\n",
              "      <td>0.000000</td>\n",
              "      <td>0.000000</td>\n",
              "      <td>1.0</td>\n",
              "      <td>0.000000</td>\n",
              "      <td>47.950001</td>\n",
              "      <td>0.0</td>\n",
              "      <td>0.0</td>\n",
              "      <td>0.0</td>\n",
              "      <td>0.0</td>\n",
              "      <td>0.0</td>\n",
              "      <td>0.0</td>\n",
              "      <td>0.0</td>\n",
              "      <td>0.0</td>\n",
              "      <td>1.0</td>\n",
              "      <td>...</td>\n",
              "      <td>0.0</td>\n",
              "      <td>0.0</td>\n",
              "      <td>0.0</td>\n",
              "      <td>0.0</td>\n",
              "      <td>0.0</td>\n",
              "      <td>409.0</td>\n",
              "      <td>0.0</td>\n",
              "      <td>0.0</td>\n",
              "      <td>0.0</td>\n",
              "      <td>1.0</td>\n",
              "      <td>1.0</td>\n",
              "      <td>0.0</td>\n",
              "      <td>0.0</td>\n",
              "      <td>0.0</td>\n",
              "      <td>1.0</td>\n",
              "      <td>1.0</td>\n",
              "      <td>1.0</td>\n",
              "      <td>1.0</td>\n",
              "      <td>1.0</td>\n",
              "      <td>0.0</td>\n",
              "      <td>1.0</td>\n",
              "      <td>1.0</td>\n",
              "      <td>0.0</td>\n",
              "      <td>0.0</td>\n",
              "      <td>0.0</td>\n",
              "      <td>0.0</td>\n",
              "      <td>398.0</td>\n",
              "      <td>0.0</td>\n",
              "      <td>1.0</td>\n",
              "      <td>1.0</td>\n",
              "      <td>0.0</td>\n",
              "      <td>0.0</td>\n",
              "      <td>1.0</td>\n",
              "      <td>1.0</td>\n",
              "      <td>1.0</td>\n",
              "      <td>0.0</td>\n",
              "      <td>1.0</td>\n",
              "      <td>1.0</td>\n",
              "      <td>1.0</td>\n",
              "      <td>0.0</td>\n",
              "    </tr>\n",
              "    <tr>\n",
              "      <th>1</th>\n",
              "      <td>2.0</td>\n",
              "      <td>12.0</td>\n",
              "      <td>1.0</td>\n",
              "      <td>1.0</td>\n",
              "      <td>0.0</td>\n",
              "      <td>2.0</td>\n",
              "      <td>0.0</td>\n",
              "      <td>0.0</td>\n",
              "      <td>1.0</td>\n",
              "      <td>0.0</td>\n",
              "      <td>0.0</td>\n",
              "      <td>0.0</td>\n",
              "      <td>2.0</td>\n",
              "      <td>3.0</td>\n",
              "      <td>49.00</td>\n",
              "      <td>W</td>\n",
              "      <td>4272</td>\n",
              "      <td>0.000000</td>\n",
              "      <td>0.000000</td>\n",
              "      <td>280.000000</td>\n",
              "      <td>0.0</td>\n",
              "      <td>0.0</td>\n",
              "      <td>0.0</td>\n",
              "      <td>0.0</td>\n",
              "      <td>0.0</td>\n",
              "      <td>0.0</td>\n",
              "      <td>77.000000</td>\n",
              "      <td>0.000000</td>\n",
              "      <td>1.0</td>\n",
              "      <td>77.000000</td>\n",
              "      <td>280.000000</td>\n",
              "      <td>0.0</td>\n",
              "      <td>0.0</td>\n",
              "      <td>0.0</td>\n",
              "      <td>0.0</td>\n",
              "      <td>0.0</td>\n",
              "      <td>0.0</td>\n",
              "      <td>0.0</td>\n",
              "      <td>0.0</td>\n",
              "      <td>1.0</td>\n",
              "      <td>...</td>\n",
              "      <td>0.0</td>\n",
              "      <td>0.0</td>\n",
              "      <td>0.0</td>\n",
              "      <td>0.0</td>\n",
              "      <td>0.0</td>\n",
              "      <td>634.0</td>\n",
              "      <td>0.0</td>\n",
              "      <td>1.0</td>\n",
              "      <td>1.0</td>\n",
              "      <td>1.0</td>\n",
              "      <td>1.0</td>\n",
              "      <td>0.0</td>\n",
              "      <td>0.0</td>\n",
              "      <td>0.0</td>\n",
              "      <td>1.0</td>\n",
              "      <td>1.0</td>\n",
              "      <td>1.0</td>\n",
              "      <td>1.0</td>\n",
              "      <td>1.0</td>\n",
              "      <td>0.0</td>\n",
              "      <td>0.0</td>\n",
              "      <td>0.0</td>\n",
              "      <td>0.0</td>\n",
              "      <td>0.0</td>\n",
              "      <td>0.0</td>\n",
              "      <td>0.0</td>\n",
              "      <td>634.0</td>\n",
              "      <td>0.0</td>\n",
              "      <td>1.0</td>\n",
              "      <td>1.0</td>\n",
              "      <td>0.0</td>\n",
              "      <td>0.0</td>\n",
              "      <td>1.0</td>\n",
              "      <td>0.0</td>\n",
              "      <td>0.0</td>\n",
              "      <td>0.0</td>\n",
              "      <td>1.0</td>\n",
              "      <td>1.0</td>\n",
              "      <td>1.0</td>\n",
              "      <td>0.0</td>\n",
              "    </tr>\n",
              "    <tr>\n",
              "      <th>2</th>\n",
              "      <td>2.0</td>\n",
              "      <td>22.0</td>\n",
              "      <td>0.0</td>\n",
              "      <td>2.0</td>\n",
              "      <td>0.0</td>\n",
              "      <td>4.0</td>\n",
              "      <td>0.0</td>\n",
              "      <td>0.0</td>\n",
              "      <td>5.0</td>\n",
              "      <td>0.0</td>\n",
              "      <td>0.0</td>\n",
              "      <td>0.0</td>\n",
              "      <td>2.0</td>\n",
              "      <td>2.0</td>\n",
              "      <td>171.00</td>\n",
              "      <td>W</td>\n",
              "      <td>4476</td>\n",
              "      <td>0.000000</td>\n",
              "      <td>0.000000</td>\n",
              "      <td>1321.000000</td>\n",
              "      <td>0.0</td>\n",
              "      <td>0.0</td>\n",
              "      <td>263.0</td>\n",
              "      <td>0.0</td>\n",
              "      <td>0.0</td>\n",
              "      <td>0.0</td>\n",
              "      <td>0.000000</td>\n",
              "      <td>0.000000</td>\n",
              "      <td>1.0</td>\n",
              "      <td>0.000000</td>\n",
              "      <td>1058.000000</td>\n",
              "      <td>0.0</td>\n",
              "      <td>0.0</td>\n",
              "      <td>0.0</td>\n",
              "      <td>0.0</td>\n",
              "      <td>2.0</td>\n",
              "      <td>0.0</td>\n",
              "      <td>0.0</td>\n",
              "      <td>0.0</td>\n",
              "      <td>1.0</td>\n",
              "      <td>...</td>\n",
              "      <td>0.0</td>\n",
              "      <td>0.0</td>\n",
              "      <td>0.0</td>\n",
              "      <td>0.0</td>\n",
              "      <td>0.0</td>\n",
              "      <td>97.0</td>\n",
              "      <td>0.0</td>\n",
              "      <td>1.0</td>\n",
              "      <td>2.0</td>\n",
              "      <td>1.0</td>\n",
              "      <td>2.0</td>\n",
              "      <td>0.0</td>\n",
              "      <td>0.0</td>\n",
              "      <td>0.0</td>\n",
              "      <td>2.0</td>\n",
              "      <td>1.0</td>\n",
              "      <td>1.0</td>\n",
              "      <td>1.0</td>\n",
              "      <td>1.0</td>\n",
              "      <td>0.0</td>\n",
              "      <td>0.0</td>\n",
              "      <td>0.0</td>\n",
              "      <td>0.0</td>\n",
              "      <td>0.0</td>\n",
              "      <td>0.0</td>\n",
              "      <td>0.0</td>\n",
              "      <td>97.0</td>\n",
              "      <td>0.0</td>\n",
              "      <td>1.0</td>\n",
              "      <td>1.0</td>\n",
              "      <td>0.0</td>\n",
              "      <td>0.0</td>\n",
              "      <td>1.0</td>\n",
              "      <td>0.0</td>\n",
              "      <td>0.0</td>\n",
              "      <td>0.0</td>\n",
              "      <td>1.0</td>\n",
              "      <td>1.0</td>\n",
              "      <td>1.0</td>\n",
              "      <td>0.0</td>\n",
              "    </tr>\n",
              "    <tr>\n",
              "      <th>3</th>\n",
              "      <td>4.0</td>\n",
              "      <td>7.0</td>\n",
              "      <td>0.0</td>\n",
              "      <td>2.0</td>\n",
              "      <td>0.0</td>\n",
              "      <td>2.0</td>\n",
              "      <td>0.0</td>\n",
              "      <td>0.0</td>\n",
              "      <td>1.0</td>\n",
              "      <td>1.0</td>\n",
              "      <td>0.0</td>\n",
              "      <td>0.0</td>\n",
              "      <td>2.0</td>\n",
              "      <td>5.0</td>\n",
              "      <td>284.95</td>\n",
              "      <td>W</td>\n",
              "      <td>10989</td>\n",
              "      <td>0.000000</td>\n",
              "      <td>0.000000</td>\n",
              "      <td>0.000000</td>\n",
              "      <td>0.0</td>\n",
              "      <td>0.0</td>\n",
              "      <td>0.0</td>\n",
              "      <td>0.0</td>\n",
              "      <td>0.0</td>\n",
              "      <td>0.0</td>\n",
              "      <td>0.000000</td>\n",
              "      <td>0.000000</td>\n",
              "      <td>1.0</td>\n",
              "      <td>0.000000</td>\n",
              "      <td>0.000000</td>\n",
              "      <td>0.0</td>\n",
              "      <td>0.0</td>\n",
              "      <td>0.0</td>\n",
              "      <td>0.0</td>\n",
              "      <td>0.0</td>\n",
              "      <td>0.0</td>\n",
              "      <td>0.0</td>\n",
              "      <td>0.0</td>\n",
              "      <td>1.0</td>\n",
              "      <td>...</td>\n",
              "      <td>0.0</td>\n",
              "      <td>0.0</td>\n",
              "      <td>0.0</td>\n",
              "      <td>0.0</td>\n",
              "      <td>0.0</td>\n",
              "      <td>242.0</td>\n",
              "      <td>0.0</td>\n",
              "      <td>1.0</td>\n",
              "      <td>1.0</td>\n",
              "      <td>1.0</td>\n",
              "      <td>1.0</td>\n",
              "      <td>0.0</td>\n",
              "      <td>0.0</td>\n",
              "      <td>0.0</td>\n",
              "      <td>1.0</td>\n",
              "      <td>1.0</td>\n",
              "      <td>1.0</td>\n",
              "      <td>1.0</td>\n",
              "      <td>1.0</td>\n",
              "      <td>0.0</td>\n",
              "      <td>1.0</td>\n",
              "      <td>1.0</td>\n",
              "      <td>0.0</td>\n",
              "      <td>0.0</td>\n",
              "      <td>0.0</td>\n",
              "      <td>0.0</td>\n",
              "      <td>242.0</td>\n",
              "      <td>0.0</td>\n",
              "      <td>1.0</td>\n",
              "      <td>2.0</td>\n",
              "      <td>0.0</td>\n",
              "      <td>0.0</td>\n",
              "      <td>2.0</td>\n",
              "      <td>1.0</td>\n",
              "      <td>1.0</td>\n",
              "      <td>0.0</td>\n",
              "      <td>2.0</td>\n",
              "      <td>2.0</td>\n",
              "      <td>2.0</td>\n",
              "      <td>0.0</td>\n",
              "    </tr>\n",
              "    <tr>\n",
              "      <th>4</th>\n",
              "      <td>6.0</td>\n",
              "      <td>14.0</td>\n",
              "      <td>0.0</td>\n",
              "      <td>6.0</td>\n",
              "      <td>0.0</td>\n",
              "      <td>5.0</td>\n",
              "      <td>0.0</td>\n",
              "      <td>0.0</td>\n",
              "      <td>5.0</td>\n",
              "      <td>2.0</td>\n",
              "      <td>0.0</td>\n",
              "      <td>0.0</td>\n",
              "      <td>6.0</td>\n",
              "      <td>6.0</td>\n",
              "      <td>67.95</td>\n",
              "      <td>W</td>\n",
              "      <td>18018</td>\n",
              "      <td>67.949997</td>\n",
              "      <td>67.949997</td>\n",
              "      <td>183.850006</td>\n",
              "      <td>0.0</td>\n",
              "      <td>0.0</td>\n",
              "      <td>0.0</td>\n",
              "      <td>0.0</td>\n",
              "      <td>0.0</td>\n",
              "      <td>0.0</td>\n",
              "      <td>67.949997</td>\n",
              "      <td>67.949997</td>\n",
              "      <td>1.0</td>\n",
              "      <td>67.949997</td>\n",
              "      <td>183.850006</td>\n",
              "      <td>0.0</td>\n",
              "      <td>0.0</td>\n",
              "      <td>0.0</td>\n",
              "      <td>0.0</td>\n",
              "      <td>0.0</td>\n",
              "      <td>0.0</td>\n",
              "      <td>0.0</td>\n",
              "      <td>0.0</td>\n",
              "      <td>1.0</td>\n",
              "      <td>...</td>\n",
              "      <td>0.0</td>\n",
              "      <td>0.0</td>\n",
              "      <td>0.0</td>\n",
              "      <td>0.0</td>\n",
              "      <td>0.0</td>\n",
              "      <td>22.0</td>\n",
              "      <td>0.0</td>\n",
              "      <td>1.0</td>\n",
              "      <td>1.0</td>\n",
              "      <td>1.0</td>\n",
              "      <td>1.0</td>\n",
              "      <td>0.0</td>\n",
              "      <td>0.0</td>\n",
              "      <td>0.0</td>\n",
              "      <td>1.0</td>\n",
              "      <td>1.0</td>\n",
              "      <td>1.0</td>\n",
              "      <td>1.0</td>\n",
              "      <td>1.0</td>\n",
              "      <td>0.0</td>\n",
              "      <td>1.0</td>\n",
              "      <td>1.0</td>\n",
              "      <td>0.0</td>\n",
              "      <td>0.0</td>\n",
              "      <td>0.0</td>\n",
              "      <td>0.0</td>\n",
              "      <td>22.0</td>\n",
              "      <td>0.0</td>\n",
              "      <td>1.0</td>\n",
              "      <td>1.0</td>\n",
              "      <td>0.0</td>\n",
              "      <td>0.0</td>\n",
              "      <td>1.0</td>\n",
              "      <td>1.0</td>\n",
              "      <td>1.0</td>\n",
              "      <td>0.0</td>\n",
              "      <td>1.0</td>\n",
              "      <td>1.0</td>\n",
              "      <td>1.0</td>\n",
              "      <td>0.0</td>\n",
              "    </tr>\n",
              "  </tbody>\n",
              "</table>\n",
              "<p>5 rows × 190 columns</p>\n",
              "</div>"
            ],
            "text/plain": [
              "   C14    C13  C12  C11  C10   C9   C8  ...  V49  V48  V51  V46  V45  V47  V43\n",
              "0  6.0  115.0  1.0  5.0  0.0  6.0  0.0  ...  1.0  1.0  0.0  1.0  1.0  1.0  0.0\n",
              "1  2.0   12.0  1.0  1.0  0.0  2.0  0.0  ...  0.0  0.0  0.0  1.0  1.0  1.0  0.0\n",
              "2  2.0   22.0  0.0  2.0  0.0  4.0  0.0  ...  0.0  0.0  0.0  1.0  1.0  1.0  0.0\n",
              "3  4.0    7.0  0.0  2.0  0.0  2.0  0.0  ...  1.0  1.0  0.0  2.0  2.0  2.0  0.0\n",
              "4  6.0   14.0  0.0  6.0  0.0  5.0  0.0  ...  1.0  1.0  0.0  1.0  1.0  1.0  0.0\n",
              "\n",
              "[5 rows x 190 columns]"
            ]
          },
          "metadata": {
            "tags": []
          },
          "execution_count": 76
        }
      ]
    },
    {
      "cell_type": "markdown",
      "metadata": {
        "id": "2ZjU1X0h6spH",
        "colab_type": "text"
      },
      "source": [
        "## Visualize the Dataset\n",
        "\n",
        "Credits to [Roy](https://github.com/RoyMachineLearning/IEEE-CIS-Fraud-Detection)."
      ]
    },
    {
      "cell_type": "markdown",
      "metadata": {
        "id": "SF6opkaZ_4ZX",
        "colab_type": "text"
      },
      "source": [
        "### Ploting amount of Fraud Transactions"
      ]
    },
    {
      "cell_type": "code",
      "metadata": {
        "id": "8jgWBYuZaFfn",
        "colab_type": "code",
        "colab": {
          "base_uri": "https://localhost:8080/",
          "height": 377
        },
        "outputId": "50e5b32d-7aaf-4325-f22d-ab313fc57e38"
      },
      "source": [
        "total = len(train_trn_new)\n",
        "\n",
        "fig = plt.figure(figsize=(5,5))\n",
        "fig.patch.set_facecolor('xkcd:white')\n",
        "\n",
        "plot_tr = sns.countplot(x='isFraud', data=train_trn)\n",
        "plt.title('Fraud Transactions Distribution \\n 0: No Fraud | 1: Fraud', fontsize=16)\n",
        "plt.xlabel('isFraud?', fontsize=18)\n",
        "plt.ylabel('Count', fontsize=16)\n",
        "\n",
        "for p in plot_tr.patches:\n",
        "    height = p.get_height()\n",
        "    plot_tr.text(p.get_x()+p.get_width()/2.,\n",
        "            height + 3,\n",
        "            '{:1.2f}%'.format(height/total*100),\n",
        "            ha=\"center\", fontsize=15) \n",
        "#plt.grid()\n",
        "ax = plt.gca()\n",
        "ax.grid(which='major', axis='y', linestyle='--')\n",
        "ax.yaxis.grid(True)\n",
        "ax.set_axisbelow(True)\n",
        "plt.show()"
      ],
      "execution_count": 77,
      "outputs": [
        {
          "output_type": "display_data",
          "data": {
            "image/png": "[encoded data removed]",
            "text/plain": [
              "<Figure size 360x360 with 1 Axes>"
            ]
          },
          "metadata": {
            "tags": []
          }
        }
      ]
    },
    {
      "cell_type": "markdown",
      "metadata": {
        "id": "BC5TCwdN_edj",
        "colab_type": "text"
      },
      "source": [
        "### Ploting Transaction Amount Values Distribution"
      ]
    },
    {
      "cell_type": "code",
      "metadata": {
        "id": "ADeP_w8l9v9z",
        "colab_type": "code",
        "colab": {
          "base_uri": "https://localhost:8080/",
          "height": 1000
        },
        "outputId": "f0d9fbe4-fa2c-472f-fc99-9747e4668c44"
      },
      "source": [
        "fig = plt.figure(figsize=(16, 12))\n",
        "fig.patch.set_facecolor('xkcd:white')\n",
        "\n",
        "# Plot 1\n",
        "plt.suptitle('Transaction Values Distribution', fontsize=22)\n",
        "plt.subplot(221)\n",
        "sub_plot_1 = sns.distplot(train_trn_new[train_trn_new['TransactionAmt'] <= 1000]['TransactionAmt'])\n",
        "sub_plot_1.set_title(\"Transaction Amount Distribuition <= 1000\", fontsize=18)\n",
        "sub_plot_1.set_xlabel(\"\")\n",
        "sub_plot_1.set_ylabel(\"Probability\", fontsize=15)\n",
        "\n",
        "ax = plt.gca()\n",
        "ax.grid(which='major', axis='both', linestyle='--')\n",
        "ax.set_axisbelow(True)\n",
        "\n",
        "plt.subplot(222)\n",
        "sub_plot_2 = sns.distplot(np.log(train_trn_new['TransactionAmt']))\n",
        "sub_plot_2.set_title(\"Transaction Amount (Log) Distribuition\", fontsize=18)\n",
        "sub_plot_2.set_xlabel(\"\")\n",
        "sub_plot_2.set_ylabel(\"Probability\", fontsize=15)\n",
        "\n",
        "ax = plt.gca()\n",
        "ax.grid(which='major', axis='both', linestyle='--')\n",
        "ax.set_axisbelow(True)\n",
        "\n",
        "# Plot 2\n",
        "fig = plt.figure(figsize=(16, 12))\n",
        "fig.patch.set_facecolor('xkcd:white')\n",
        "\n",
        "plt.subplot(212)\n",
        "sub_plot_3 = plt.scatter(range(train_trn[train_trn['isFraud'] == 0].shape[0]),\n",
        "                 np.sort(train_trn[train_trn['isFraud'] == 0]['TransactionAmt'].values), \n",
        "                 label='NoFraud', alpha=.2)\n",
        "sub_plot_3 = plt.scatter(range(train_trn[train_trn['isFraud'] == 1].shape[0]),\n",
        "                 np.sort(train_trn[train_trn['isFraud'] == 1]['TransactionAmt'].values), \n",
        "                 label='Fraud', alpha=.2)\n",
        "sub_plot_3= plt.title(\"ECDF \\nFRAUD and NO FRAUD Transaction Amount Distribution\", fontsize=18)\n",
        "sub_plot_3 = plt.xlabel(\"Index\")\n",
        "sub_plot_3 = plt.ylabel(\"Amount Distribution\", fontsize=15)\n",
        "sub_plot_3 = plt.legend()\n",
        "\n",
        "ax = plt.gca()\n",
        "ax.grid(which='major', axis='both', linestyle='--')\n",
        "ax.set_axisbelow(True)\n",
        "\n",
        "# Plot 3\n",
        "fig = plt.figure(figsize=(16, 12))\n",
        "fig.patch.set_facecolor('xkcd:white')\n",
        "\n",
        "plt.subplot(321)\n",
        "sub_plot_4 = plt.scatter(range(train_trn[train_trn['isFraud'] == 1].shape[0]), \n",
        "                 np.sort(train_trn[train_trn['isFraud'] == 1]['TransactionAmt'].values), \n",
        "                label='isFraud', alpha=.4)\n",
        "plt.title(\"FRAUD - Transaction Amount ECDF\", fontsize=18)\n",
        "plt.xlabel(\"Index\")\n",
        "plt.ylabel(\"Amount Distribution\", fontsize=12)\n",
        "\n",
        "ax = plt.gca()\n",
        "ax.grid(which='major', axis='both', linestyle='--')\n",
        "ax.set_axisbelow(True)\n",
        "\n",
        "plt.subplot(322)\n",
        "sub_plot_5 = plt.scatter(range(train_trn[train_trn['isFraud'] == 0].shape[0]),\n",
        "                 np.sort(train_trn[train_trn['isFraud'] == 0]['TransactionAmt'].values), \n",
        "                 label='NoFraud', alpha=.2)\n",
        "sub_plot_5 = plt.title(\"NO FRAUD - Transaction Amount ECDF\", fontsize=18)\n",
        "sub_plot_5 = plt.xlabel(\"Index\")\n",
        "sub_plot_5 = plt.ylabel(\"Amount Distribution\", fontsize=15)\n",
        "\n",
        "plt.suptitle('Individual ECDF Distribution', fontsize=20)\n",
        "ax = plt.gca()\n",
        "ax.grid(which='major', axis='both', linestyle='--')\n",
        "ax.set_axisbelow(True)\n",
        "\n",
        "plt.show()"
      ],
      "execution_count": 78,
      "outputs": [
        {
          "output_type": "display_data",
          "data": {
            "image/png": "[encoded data removed]",
            "text/plain": [
              "<Figure size 1152x864 with 2 Axes>"
            ]
          },
          "metadata": {
            "tags": []
          }
        },
        {
          "output_type": "display_data",
          "data": {
            "image/png": "[encoded data removed]",
            "text/plain": [
              "<Figure size 1152x864 with 1 Axes>"
            ]
          },
          "metadata": {
            "tags": []
          }
        },
        {
          "output_type": "display_data",
          "data": {
            "image/png": "[encoded data removed]",
            "text/plain": [
              "<Figure size 1152x864 with 2 Axes>"
            ]
          },
          "metadata": {
            "tags": []
          }
        }
      ]
    },
    {
      "cell_type": "markdown",
      "metadata": {
        "id": "gp2PB6jW08BR",
        "colab_type": "text"
      },
      "source": [
        "\n",
        "Use [LabelEncoder](https://scikit-learn.org/stable/modules/generated/sklearn.preprocessing.LabelEncoder.html) to change text to int."
      ]
    },
    {
      "cell_type": "code",
      "metadata": {
        "id": "jkRI-G2Iak0f",
        "colab_type": "code",
        "colab": {
          "base_uri": "https://localhost:8080/",
          "height": 119
        },
        "outputId": "56af42e0-c46f-49a5-c587-83313fbc8813"
      },
      "source": [
        "labelencoder = LabelEncoder()\n",
        "test_trn_new['ProductCD'] = labelencoder.fit_transform(test_trn_new['ProductCD'])\n",
        "test_trn_new.ProductCD[:5]"
      ],
      "execution_count": 79,
      "outputs": [
        {
          "output_type": "execute_result",
          "data": {
            "text/plain": [
              "0    4\n",
              "1    4\n",
              "2    4\n",
              "3    4\n",
              "4    4\n",
              "Name: ProductCD, dtype: int64"
            ]
          },
          "metadata": {
            "tags": []
          },
          "execution_count": 79
        }
      ]
    },
    {
      "cell_type": "code",
      "metadata": {
        "id": "G3P5zfWtapG9",
        "colab_type": "code",
        "colab": {
          "base_uri": "https://localhost:8080/",
          "height": 119
        },
        "outputId": "e3771dcd-e4f0-4258-8be2-7433c0fa3767"
      },
      "source": [
        "train_trn_new['ProductCD'] = labelencoder.fit_transform(train_trn_new['ProductCD'])\n",
        "train_trn_new.ProductCD[:5]"
      ],
      "execution_count": 80,
      "outputs": [
        {
          "output_type": "execute_result",
          "data": {
            "text/plain": [
              "0    4\n",
              "1    4\n",
              "2    4\n",
              "3    4\n",
              "4    1\n",
              "Name: ProductCD, dtype: int64"
            ]
          },
          "metadata": {
            "tags": []
          },
          "execution_count": 80
        }
      ]
    },
    {
      "cell_type": "markdown",
      "metadata": {
        "id": "Z_jXmGLc1Jd-",
        "colab_type": "text"
      },
      "source": [
        "Fill NA/NaN values using -9999."
      ]
    },
    {
      "cell_type": "code",
      "metadata": {
        "id": "08QakPSLar97",
        "colab_type": "code",
        "colab": {}
      },
      "source": [
        "train_trn_new = train_trn_new.fillna(-9999)\n",
        "test_trn_new = test_trn_new.fillna(-9999)"
      ],
      "execution_count": 0,
      "outputs": []
    },
    {
      "cell_type": "markdown",
      "metadata": {
        "id": "2tvwZDj7BHMc",
        "colab_type": "text"
      },
      "source": [
        "Split data and train a Logistic Regression Model."
      ]
    },
    {
      "cell_type": "code",
      "metadata": {
        "id": "IR0FZ2oNa8H4",
        "colab_type": "code",
        "colab": {
          "base_uri": "https://localhost:8080/",
          "height": 71
        },
        "outputId": "eed6389b-fbc0-4ce3-fad7-1d683e88f880"
      },
      "source": [
        "x_train, x_test, y_train, y_test = train_test_split(train_trn_new, train_trn_new_label, test_size=0.2)\n",
        "\n",
        "#from SciKit-Learn\n",
        "lr = LogisticRegression(C=0.09, solver='lbfgs', class_weight='balanced')\n",
        "lr = lr.fit(x_train, y_train)"
      ],
      "execution_count": 82,
      "outputs": [
        {
          "output_type": "stream",
          "text": [
            "/usr/local/lib/python3.6/dist-packages/sklearn/linear_model/logistic.py:947: ConvergenceWarning: lbfgs failed to converge. Increase the number of iterations.\n",
            "  \"of iterations.\", ConvergenceWarning)\n"
          ],
          "name": "stderr"
        }
      ]
    },
    {
      "cell_type": "markdown",
      "metadata": {
        "id": "MpzzOniTBFfm",
        "colab_type": "text"
      },
      "source": [
        "Get Score from trained model."
      ]
    },
    {
      "cell_type": "code",
      "metadata": {
        "id": "up0813Ycclho",
        "colab_type": "code",
        "colab": {
          "base_uri": "https://localhost:8080/",
          "height": 34
        },
        "outputId": "9356e15f-ece3-4c79-8d3b-e10f1af5e9a4"
      },
      "source": [
        "y_predict = lr.predict(x_test)\n",
        "score = accuracy_score(y_predict, y_test)\n",
        "print('Score using Logistic Regression: {:.2f}%'.format(score*100))"
      ],
      "execution_count": 84,
      "outputs": [
        {
          "output_type": "stream",
          "text": [
            "Score using Logistic Regression: 71.59%\n"
          ],
          "name": "stdout"
        }
      ]
    },
    {
      "cell_type": "code",
      "metadata": {
        "id": "wtaLv53DcoFT",
        "colab_type": "code",
        "colab": {
          "base_uri": "https://localhost:8080/",
          "height": 34
        },
        "outputId": "f1214241-9a73-486b-a88b-0586a8e11581"
      },
      "source": [
        "y_sub_predict = lr.predict_proba(test_trn_new)\n",
        "\n",
        "csv_data = [['TransactionID', 'isFraud']]\n",
        "\n",
        "fraud_dict = { 'fraud': 0, 'not_fraud': 0 }\n",
        "for i in range(0, len(y_sub_predict)):\n",
        "  csv_data.append([test_trn['TransactionID'][i], y_sub_predict[i][0]])\n",
        "  if y_sub_predict[i][0] >= 0.5:\n",
        "    fraud_dict['fraud'] += 1\n",
        "  else:\n",
        "    fraud_dict['not_fraud'] += 1\n",
        "print(fraud_dict)"
      ],
      "execution_count": 85,
      "outputs": [
        {
          "output_type": "stream",
          "text": [
            "{'fraud': 394430, 'not_fraud': 112261}\n"
          ],
          "name": "stdout"
        }
      ]
    },
    {
      "cell_type": "markdown",
      "metadata": {
        "id": "EgF6Ir1Jczie",
        "colab_type": "text"
      },
      "source": [
        "Save file to upload to Kaggle"
      ]
    },
    {
      "cell_type": "code",
      "metadata": {
        "id": "qZ5_zzF4cyY4",
        "colab_type": "code",
        "colab": {}
      },
      "source": [
        "with open('submission.csv', 'w') as csv_file:\n",
        "  writer = csv.writer(csv_file)\n",
        "  writer.writerows(csv_data)\n",
        "\n",
        "csv_file.close()"
      ],
      "execution_count": 0,
      "outputs": []
    },
    {
      "cell_type": "markdown",
      "metadata": {
        "id": "i435zv93DKzo",
        "colab_type": "text"
      },
      "source": [
        "Upload submit directly to kaggle."
      ]
    },
    {
      "cell_type": "code",
      "metadata": {
        "id": "27tuS7xZC-e3",
        "colab_type": "code",
        "colab": {
          "base_uri": "https://localhost:8080/",
          "height": 51
        },
        "outputId": "8ab08a5a-3a92-4e18-9b3a-a2ca8072aa47"
      },
      "source": [
        "!kaggle competitions submit -c ieee-fraud-detection -f submission.csv -m \"Logistic Model test\""
      ],
      "execution_count": 87,
      "outputs": [
        {
          "output_type": "stream",
          "text": [
            "100% 13.5M/13.5M [00:01<00:00, 7.78MB/s]\n",
            "Successfully submitted to IEEE-CIS Fraud Detection"
          ],
          "name": "stdout"
        }
      ]
    },
    {
      "cell_type": "markdown",
      "metadata": {
        "id": "1-umlTLsBwuc",
        "colab_type": "text"
      },
      "source": [
        "Used Sources:\n",
        "\n",
        "* [RoyMachineLearning](https://github.com/RoyMachineLearning/IEEE-CIS-Fraud-Detection)\n",
        "\n",
        "* [ThiagoBfim](https://github.com/ThiagoBfim/fraud-detection)\n",
        "\n",
        "* [FlorianWoelki](https://github.com/FlorianWoelki/fraud_detection)\n"
      ]
    }
  ]
}